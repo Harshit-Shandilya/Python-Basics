{
  "nbformat": 4,
  "nbformat_minor": 0,
  "metadata": {
    "colab": {
      "provenance": []
    },
    "kernelspec": {
      "name": "python3",
      "display_name": "Python 3"
    },
    "language_info": {
      "name": "python"
    }
  },
  "cells": [
    {
      "cell_type": "markdown",
      "source": [
        "#Theory Questions-"
      ],
      "metadata": {
        "id": "k0V_xWkzX1V2"
      }
    },
    {
      "cell_type": "markdown",
      "source": [
        "## Files & Exceptional Handling Assignment\n",
        "\n",
        "-----------------------------------------------------------------\n",
        "Q1. What is the difference between interpreted and compiled languages?\n",
        "- Interpreted languages are executed line-by-line by an interpreter at runtime, translating source code into machine code on the fly. They are generally more portable because the same source code can be run on any platform with the appropriate interpreter. However, they tend to be slower due to the overhead of runtime translation. Errors are detected at runtime, which means the program may run until it encounters an error. Examples include Python and JavaScript.\n",
        "- Compiled languages are translated into machine code by a compiler before execution, creating an executable file. This machine code is specific to the target platform, making compiled languages less portable. However, they tend to be faster because the machine code is executed directly by the hardware without the need for runtime translation. Errors are detected at compile-time, which means the program will not run until all errors are fixed. Examples include C and C++.\n",
        "-----------------------------------------------------------------\n",
        "Q2. What is exception handling in Python?\n",
        "- Exception handling in Python allows you to manage runtime errors gracefully using try, except, else, and finally blocks. This mechanism helps prevent program crashes and ensures proper resource management. The try block contains code that might raise an exception, the except block handles the exception if it occurs, the else block executes code if no exceptions occur, and the finally block executes code regardless of whether an exception occurs.\n",
        "  # Syntax\n",
        "  ```python\n",
        "  try:\n",
        "      risky_code()\n",
        "  except SomeException as e:\n",
        "      handle_exception(e)\n",
        "  else:\n",
        "      no_exception_occurred()\n",
        "  finally:\n",
        "      cleanup_actions()\n",
        "  ```\n",
        "  # Example\n",
        "  ```python\n",
        "  def divide(a, b):\n",
        "      try:\n",
        "          result = a / b\n",
        "      except ZeroDivisionError as e:\n",
        "          print(f\"Error: Division by zero is not allowed. {e}\")\n",
        "      except TypeError as e:\n",
        "          print(f\"Error: Invalid input type. {e}\")\n",
        "      else:\n",
        "          print(f\"The result is {result}\")\n",
        "      finally:\n",
        "          print(\"Execution of the divide function is complete.\")\n",
        "  \n",
        "  divide(10, 2)\n",
        "  divide(10, 0)\n",
        "  divide(10, 'a')\n",
        "  ```\n",
        "-----------------------------------------------------------------\n",
        "Q3. What is the purpose of the finally block in exception handling?\n",
        "- The finally block ensures that code runs regardless of whether an exception occurs. It is used for cleanup actions like closing files or releasing resources. This guarantees that important cleanup tasks are always performed, even if an error occurs. The finally block is particularly useful for resource management, ensuring that resources are properly released even if an error occurs.\n",
        "  # Syntax\n",
        "  ```python\n",
        "  try:\n",
        "      risky_code()\n",
        "  finally:\n",
        "      cleanup_actions()\n",
        "  ```\n",
        "-----------------------------------------------------------------\n",
        "Q4. What is logging in Python?\n",
        "- Logging is a way to track events that happen when software runs. The logging module provides a flexible framework for emitting log messages from Python programs. It helps in debugging, monitoring, and understanding the flow of a program by recording significant events. Logging can be configured to output messages to different destinations, such as the console or a file, and at different levels of severity, such as DEBUG, INFO, WARNING, ERROR, and CRITICAL.\n",
        "  # Syntax\n",
        "  ```python\n",
        "  import logging\n",
        "  logging.basicConfig(level=logging.INFO)\n",
        "  logging.info('This is an info message')\n",
        "  ```\n",
        "-----------------------------------------------------------------\n",
        "Q5. What is the significance of the `__del__` method in Python?\n",
        "- The `__del__` method is called when an object is about to be destroyed. It is used to clean up resources like closing files or network connections. This method ensures that any necessary finalization is performed before the object is removed from memory. The `__del__` method is also known as a destructor and is useful for managing resources that need to be explicitly released when an object is no longer needed.\n",
        "  # Syntax\n",
        "  ```python\n",
        "  class MyClass:\n",
        "      def __del__(self):\n",
        "          print('Object is being deleted')\n",
        "  ```\n",
        "-----------------------------------------------------------------\n",
        "Q6. What is the difference between import and from import in Python?\n",
        "- **import:** Imports the entire module, making all its functions and classes available. You need to use the module name to access its functions and classes.\n",
        "- **from import:** Imports specific attributes or functions from a module, allowing direct access without module qualification. This can make the code cleaner and more readable.\n",
        "  # Syntax\n",
        "  ```python\n",
        "  import math\n",
        "  from math import sqrt\n",
        "  ```\n",
        "-----------------------------------------------------------------\n",
        "Q7. How can you handle multiple exceptions in Python?\n",
        "- Use multiple except blocks or a single except block with a tuple of exceptions. This allows handling different types of exceptions separately or together, providing more control over error handling. Multiple except blocks can be used to handle different exceptions in different ways, while a single except block with a tuple can handle multiple exceptions in the same way.\n",
        "  # Syntax\n",
        "  ```python\n",
        "  try:\n",
        "      risky_code()\n",
        "  except (TypeError, ValueError) as e:\n",
        "      handle_exception(e)\n",
        "  ```\n",
        "-----------------------------------------------------------------\n",
        "Q8. What is the purpose of the with statement when handling files in Python?\n",
        "- The with statement ensures proper acquisition and release of resources. It is commonly used with file operations to ensure files are properly closed, even if an error occurs. This helps prevent resource leaks and ensures that files are always properly managed. The with statement simplifies resource management by automatically handling the setup and teardown of resources.\n",
        "  # Syntax\n",
        "  ```python\n",
        "  with open('file.txt', 'r') as file:\n",
        "      content = file.read()\n",
        "  ```\n",
        "-----------------------------------------------------------------\n",
        "Q9. What is the difference between multithreading and multiprocessing?\n",
        "- **Multithreading:** Multiple threads within the same process, sharing memory space. It is useful for I/O-bound tasks, such as reading from a file or making network requests, where the program spends a lot of time waiting for external resources.\n",
        "- **Multiprocessing:** Multiple processes with separate memory space. It is useful for CPU-bound tasks, such as complex calculations, where the program spends a lot of time performing computations. Multiprocessing can take advantage of multiple CPU cores to improve performance.\n",
        "  # Syntax\n",
        "  ```python\n",
        "  import threading\n",
        "  import multiprocessing\n",
        "  ```\n",
        "-----------------------------------------------------------------\n",
        "Q10. What are the advantages of using logging in a program?\n",
        "- Logging helps in debugging and monitoring the application by providing a record of runtime events. It allows developers to track the flow of the program and identify issues, making it easier to maintain and troubleshoot the application. Logging can also be used to monitor the application's performance and behavior in production, helping to identify and resolve issues before they become critical.\n",
        "  # Syntax\n",
        "  ```python\n",
        "  import logging\n",
        "  logging.basicConfig(level=logging.DEBUG)\n",
        "  logging.debug('Debug message')\n",
        "  ```\n",
        "-----------------------------------------------------------------\n",
        "Q11. What is memory management in Python?\n",
        "- Memory management in Python involves the allocation and deallocation of memory to ensure efficient use of resources and prevent memory leaks. Python uses automatic memory management, including garbage collection, to handle memory allocation and deallocation. The garbage collector automatically identifies and frees unused objects, helping to manage memory efficiently and prevent memory leaks.\n",
        "  # Syntax\n",
        "  ```python\n",
        "  import gc\n",
        "  gc.collect()\n",
        "  ```\n",
        "-----------------------------------------------------------------\n",
        "Q12. What are the basic steps involved in exception handling in Python?\n",
        "- Identify risky code, handle exceptions, execute alternative code, and clean up using try, except, else, and finally blocks. This structured approach ensures that errors are managed gracefully and resources are properly released. The try block contains code that might raise an exception, the except block handles the exception if it occurs, the else block executes code if no exceptions occur, and the finally block executes code regardless of whether an exception occurs.\n",
        "  # Syntax\n",
        "  ```python\n",
        "  try:\n",
        "      risky_code()\n",
        "  except Exception as e:\n",
        "      handle_exception(e)\n",
        "  else:\n",
        "      no_exception_occurred()\n",
        "  finally:\n",
        "      cleanup_actions()\n",
        "  ```\n",
        "-----------------------------------------------------------------\n",
        "Q13. Why is memory management important in Python?\n",
        "- Memory management is crucial to prevent memory leaks and ensure efficient use of resources, which helps maintain application performance. Proper memory management ensures that the application runs smoothly without consuming excessive memory. By managing memory efficiently, developers can prevent memory-related issues, such as crashes and slow performance, and ensure that the application remains stable and responsive.\n",
        "  # Syntax\n",
        "  ```python\n",
        "  import gc\n",
        "  gc.collect()\n",
        "  ```\n",
        "-----------------------------------------------------------------\n",
        "Q14. What is the role of try and except in exception handling?\n",
        "- **try:** Wraps code that might raise an exception.\n",
        "- **except:** Handles the exception if it occurs. This structure allows for graceful error handling and ensures that the program can continue running or terminate gracefully. The try block contains code that might raise an exception, and the except block handles the exception if it occurs, allowing the program to recover from errors and continue running.\n",
        "  # Syntax\n",
        "  ```python\n",
        "  try:\n",
        "      risky_code()\n",
        "  except Exception as e:\n",
        "      handle_exception(e)\n",
        "  ```\n",
        "-----------------------------------------------------------------\n",
        "Q15. How does Python's garbage collection system work?\n",
        "- Python's garbage collection system automatically deallocates memory by identifying and freeing unused objects using reference counting and cyclic garbage collector. This helps manage memory efficiently and prevents memory leaks. The garbage collector tracks the number of references to each object and frees objects that are no longer referenced. It also detects and collects cyclic references, which are groups of objects that reference each other but are not reachable from the rest of the program.\n",
        "  # Syntax\n",
        "  ```python\n",
        "  import gc\n",
        "  gc.collect()\n",
        "  ```\n",
        "-----------------------------------------------------------------\n",
        "Q16. What is the purpose of the else block in exception handling?\n",
        "- The else block executes code if no exceptions occur in the try block, allowing for clean separation of normal and exceptional code paths. This helps in organizing code and making it more readable and maintainable. The else block is useful for code that should only run if no exceptions occur, providing a clear distinction between normal and exceptional code paths.\n",
        "  # Syntax\n",
        "  ```python\n",
        "  try:\n",
        "      risky_code()\n",
        "  except Exception as e:\n",
        "      handle_exception(e)\n",
        "  else:\n",
        "      no_exception_occurred()\n",
        "  ```\n",
        "-----------------------------------------------------------------\n",
        "Q17. What are the common logging levels in Python?\n",
        "- The common logging levels are DEBUG, INFO, WARNING, ERROR, and CRITICAL, each indicating the severity of the log messages. These levels help categorize log messages and control the output based on the importance of the events. DEBUG is used for detailed diagnostic information, INFO for general information, WARNING for potential issues, ERROR for errors that prevent the program from continuing, and CRITICAL for severe errors that may cause the program to terminate.\n",
        "  # Syntax\n",
        "  ```python\n",
        "  import logging\n",
        "  logging.basicConfig(level=logging.DEBUG)\n",
        "  logging.debug('Debug message')\n",
        "  ```\n",
        "-----------------------------------------------------------------\n",
        "Q18. What is the difference between `os.fork()` and multiprocessing in Python?\n",
        "- **os.fork():** Creates a new process by duplicating the current process. It is available on Unix-like systems and is useful for creating child processes that run concurrently with the parent process. However, it can be complex to manage and is not available on all platforms.\n",
        "- **multiprocessing:** Module to create processes with separate memory space, providing a higher-level interface for process creation and management. The multiprocessing module is platform-independent and provides a simpler and more flexible way to create and manage processes, making it easier to write cross-platform code.\n",
        "  # Syntax\n",
        "  ```python\n",
        "  import os\n",
        "  pid = os.fork()\n",
        "  ```\n",
        "-----------------------------------------------------------------\n",
        "Q19. What is the importance of closing a file in Python?\n",
        "- Closing a file ensures that data is written and resources are released, preventing data corruption and resource leaks. It is a crucial step in file handling to maintain data integrity and system stability. When a file is closed, any buffered data is written to the file, and the file descriptor is released, making it available for other processes. Failing to close a file can lead to data loss, resource exhaustion, and other issues.\n",
        "  # Syntax\n",
        "  ```python\n",
        "  file = open('file.txt', 'r')\n",
        "  file.close()\n",
        "  ```\n",
        "-----------------------------------------------------------------\n",
        "Q20. What is the difference between `file.read()` and `file.readline()` in Python?\n",
        "- **file.read():** Reads the entire file into a single string. This method is useful for reading small files that can be easily loaded into memory.\n",
        "- **file.readline():** Reads one line at a time, making it suitable for processing large files line-by-line. This method is useful for reading large files that cannot be loaded into memory all at once, allowing the program to process each line individually.\n",
        "  # Syntax\n",
        "  ```python\n",
        "  with open('file.txt', 'r') as file:\n",
        "      content = file.read()\n",
        "      line = file.readline()\n",
        "  ```\n",
        "-----------------------------------------------------------------\n",
        "Q21. What is the logging module in Python used for?\n",
        "- The logging module provides a flexible framework for emitting log messages from Python programs, aiding in debugging and monitoring. It allows developers to track the flow of the program and identify issues. The logging module supports different log levels, output formats, and destinations, making it a powerful tool for managing log messages in Python applications.\n",
        "  # Syntax\n",
        "  ```python\n",
        "  import logging\n",
        "  logging.basicConfig(level=logging.INFO)\n",
        "  logging.info('This is an info message')\n",
        "  ```\n",
        "-----------------------------------------------------------------\n",
        "Q22. What is the os module in Python used for in file handling?\n",
        "- The os module provides functions to interact with the operating system, such as file operations, directory management, and process handling. It is essential for performing system-level tasks in Python. The os module allows developers to perform tasks like creating, deleting, and renaming files and directories, as well as managing file permissions and attributes.\n",
        "  # Syntax\n",
        "  ```python\n",
        "  import os\n",
        "  os.remove('file.txt')\n",
        "  ```\n",
        "-----------------------------------------------------------------\n",
        "Q23. What are the challenges associated with memory management in Python?\n",
        "- Challenges include handling memory leaks, fragmentation, and ensuring efficient memory use to maintain application performance. Proper memory management is crucial for the stability and efficiency of applications. Memory leaks occur when objects are not properly deallocated, leading to increased memory usage over time. Fragmentation occurs when memory is allocated and deallocated in a way that leaves gaps, reducing the efficiency of memory usage.\n",
        "  # Syntax\n",
        "  ```python\n",
        "  import gc\n",
        "  gc.collect()\n",
        "  ```\n",
        "-----------------------------------------------------------------\n",
        "Q24. How do you raise an exception manually in Python?\n",
        "- Use the `raise` statement with an exception to manually raise an error. This allows for custom error handling and can be used to enforce certain conditions in the code. Raising exceptions manually can help ensure that the program behaves as expected and can provide meaningful error messages to users and developers.\n",
        "  # Syntax\n",
        "  ```python\n",
        "  raise ValueError(\"An error occurred\")\n",
        "  ```\n",
        "-----------------------------------------------------------------\n",
        "Q25. Why is it important to use multithreading in certain applications?\n",
        "- Multithreading improves performance by allowing concurrent execution of tasks, making applications more responsive and efficient. It is particularly useful for I/O-bound tasks where waiting for external resources can be parallelized. By using multiple threads, an application can perform multiple tasks simultaneously, improving overall performance and responsiveness.\n",
        "  # Syntax\n",
        "  ```python\n",
        "  import threading\n",
        "  def task():\n",
        "      print('Task executed')\n",
        "  thread = threading.Thread(target=task)\n",
        "  thread.start()\n",
        "  ```\n",
        "-----------------------------------------------------------------\n"
      ],
      "metadata": {
        "id": "-1tTU4DdsnAY"
      }
    },
    {
      "cell_type": "markdown",
      "source": [
        "#Practical Questions-"
      ],
      "metadata": {
        "id": "r51rDYI5bVux"
      }
    },
    {
      "cell_type": "markdown",
      "source": [
        "**Q1. How can you open file in Python and write a string to it?**"
      ],
      "metadata": {
        "id": "fO9UTrxObbe3"
      }
    },
    {
      "cell_type": "code",
      "source": [
        "file = open(\"File.txt\", \"w\")\n",
        "file.write(\"Hello, World!\")\n",
        "file.close()\n",
        "print(\"File written successfully.\")"
      ],
      "metadata": {
        "colab": {
          "base_uri": "https://localhost:8080/"
        },
        "id": "0tp1NWpIdOZw",
        "outputId": "ebd5b8cb-95df-4181-97eb-c3923b2f66d1"
      },
      "execution_count": null,
      "outputs": [
        {
          "output_type": "stream",
          "name": "stdout",
          "text": [
            "File written successfully.\n"
          ]
        }
      ]
    },
    {
      "cell_type": "markdown",
      "source": [
        "**Q2. Write a Python program to read the contents of a file and print each line.**"
      ],
      "metadata": {
        "id": "VpkCl9h4dOy7"
      }
    },
    {
      "cell_type": "code",
      "source": [
        "file = open(\"File.txt\", \"r\")\n",
        "lines = file.readlines()\n",
        "for line in lines:\n",
        "    print(line)\n",
        "file.close()"
      ],
      "metadata": {
        "colab": {
          "base_uri": "https://localhost:8080/"
        },
        "id": "fcg5w37vdaBO",
        "outputId": "def5f9b6-47c8-4312-817b-6e8d32a9fbf3"
      },
      "execution_count": null,
      "outputs": [
        {
          "output_type": "stream",
          "name": "stdout",
          "text": [
            "Hello, World!\n"
          ]
        }
      ]
    },
    {
      "cell_type": "markdown",
      "source": [
        "**Q3. How would you handle a case where the file doesn't exist while trying to open it for reading?**"
      ],
      "metadata": {
        "id": "JpS2w5ekdaVw"
      }
    },
    {
      "cell_type": "code",
      "source": [
        "#If the file doesn't exists, the read mode will throw an error.\n",
        "#So to handle this we will open it in write mode first then it will read the file.\n",
        "file = open(\"File2.txt\", \"w\")\n",
        "file.write(\"Hello, This is File2.txt\")\n",
        "file.close()\n",
        "\n",
        "file = open(\"File2.txt\", \"r\")\n",
        "lines = file.readlines()\n",
        "for line in lines:\n",
        "    print(line)\n",
        "file.close()"
      ],
      "metadata": {
        "colab": {
          "base_uri": "https://localhost:8080/"
        },
        "id": "YzC-by5Bdf1p",
        "outputId": "03c667d1-56f3-4e40-e9d9-939e423bcbf1"
      },
      "execution_count": null,
      "outputs": [
        {
          "output_type": "stream",
          "name": "stdout",
          "text": [
            "Hello, This is File2.txt\n"
          ]
        }
      ]
    },
    {
      "cell_type": "markdown",
      "source": [
        "**Q4. Write a Python script that reads from one file and writes its content to another file?**"
      ],
      "metadata": {
        "id": "BL7OhR_tdgJ4"
      }
    },
    {
      "cell_type": "code",
      "source": [
        "file = open(\"File.txt\", \"r\")\n",
        "lines = file.readlines()\n",
        "file.close()\n",
        "\n",
        "file = open(\"File2.txt\", \"w\")\n",
        "for line in lines:\n",
        "    file.write(line)\n",
        "file.close()\n",
        "print(\"File copied successfully.\")"
      ],
      "metadata": {
        "colab": {
          "base_uri": "https://localhost:8080/"
        },
        "id": "1xjHZwx5dm2k",
        "outputId": "b89e1c32-c44b-4977-c85d-73523bb2ef41"
      },
      "execution_count": null,
      "outputs": [
        {
          "output_type": "stream",
          "name": "stdout",
          "text": [
            "File copied successfully.\n"
          ]
        }
      ]
    },
    {
      "cell_type": "markdown",
      "source": [
        "**Q5. How would you catch and handle division by zero error in Python?**"
      ],
      "metadata": {
        "id": "UpwDGoTidnLJ"
      }
    },
    {
      "cell_type": "code",
      "source": [
        "try:\n",
        "    result = 10 / 0\n",
        "except ZeroDivisionError:\n",
        "    print(\"Error: Division by zero\")"
      ],
      "metadata": {
        "colab": {
          "base_uri": "https://localhost:8080/"
        },
        "id": "kfg7YJRsdsz1",
        "outputId": "9e91e6c5-3120-455d-e551-e7ab20da6923"
      },
      "execution_count": null,
      "outputs": [
        {
          "output_type": "stream",
          "name": "stdout",
          "text": [
            "Error: Division by zero\n"
          ]
        }
      ]
    },
    {
      "cell_type": "markdown",
      "source": [
        "**Q6. Write a Python program that logs an error message to a log file when a division by zero exception occurs.**"
      ],
      "metadata": {
        "id": "-J6HS9LPdtMC"
      }
    },
    {
      "cell_type": "code",
      "source": [
        "import logging\n",
        "\n",
        "# Configure logging\n",
        "logging.basicConfig(filename='error.log', level=logging.ERROR)\n",
        "\n",
        "def divide(numerator, denominator):\n",
        "    try:\n",
        "        result = numerator / denominator\n",
        "        return result\n",
        "    except ZeroDivisionError:\n",
        "        logging.error(\"Division by zero is not allowed.\")\n",
        "        return None\n",
        "divide(40,0)"
      ],
      "metadata": {
        "colab": {
          "base_uri": "https://localhost:8080/"
        },
        "id": "W8J9FQGudy81",
        "outputId": "3af151d2-d389-4e7b-a220-1623c8b5dfeb"
      },
      "execution_count": 8,
      "outputs": [
        {
          "output_type": "stream",
          "name": "stderr",
          "text": [
            "ERROR:root:Division by zero is not allowed.\n"
          ]
        }
      ]
    },
    {
      "cell_type": "markdown",
      "source": [
        "**Q7. How do you log information at different levels (INFO, ERROR, WARNING) in Python using the logging module?**"
      ],
      "metadata": {
        "id": "NMyyz_oHdzRX"
      }
    },
    {
      "cell_type": "code",
      "source": [
        "import logging\n",
        "\n",
        "logging.basicConfig(filename=\"log.txt\", level=logging.INFO)\n",
        "logging.info(\"This is an informational message\")\n",
        "\n",
        "logging.basicConfig(filename=\"log.txt\", level=logging.ERROR)\n",
        "logging.error(\"This is an error message\")\n",
        "\n",
        "logging.basicConfig(filename=\"log.txt\", level=logging.WARNING)\n",
        "logging.warning(\"This is a warning message\")\n",
        "print(\"Program execution completed.\")"
      ],
      "metadata": {
        "colab": {
          "base_uri": "https://localhost:8080/"
        },
        "id": "_et1YOxDd6XQ",
        "outputId": "e31d760c-ec6a-4e28-81c4-c1f355e0aaa3"
      },
      "execution_count": null,
      "outputs": [
        {
          "output_type": "stream",
          "name": "stderr",
          "text": [
            "ERROR:root:This is an error message\n",
            "WARNING:root:This is a warning message\n"
          ]
        },
        {
          "output_type": "stream",
          "name": "stdout",
          "text": [
            "Program execution completed.\n"
          ]
        }
      ]
    },
    {
      "cell_type": "markdown",
      "source": [
        "**Q8. Write a program to handle a file opening error using exception handling.**"
      ],
      "metadata": {
        "id": "ELmhHB7pd6ri"
      }
    },
    {
      "cell_type": "code",
      "source": [
        "def file_handling_example(filename):\n",
        "    try:\n",
        "        with open(filename, 'r') as file:\n",
        "            contents = file.read()\n",
        "            print(contents)\n",
        "    except FileNotFoundError:\n",
        "        print(f\"Error: File '{filename}' not found.\")\n",
        "    except Exception as e:\n",
        "        print(f\"An unexpected error occurred: {e}\")\n",
        "\n",
        "file_handling_example('File.txt')\n",
        "file_handling_example('mfile.txt')"
      ],
      "metadata": {
        "colab": {
          "base_uri": "https://localhost:8080/"
        },
        "id": "3wdTHprPd_Uh",
        "outputId": "e560e5c2-221e-44cd-bea2-aade0f4cefcb"
      },
      "execution_count": 10,
      "outputs": [
        {
          "output_type": "stream",
          "name": "stdout",
          "text": [
            "Hello, My Name is Harshit Shandilya\n",
            "Error: File 'mfile.txt' not found.\n"
          ]
        }
      ]
    },
    {
      "cell_type": "markdown",
      "source": [
        "**Q9. How can you read a file line by line and store its content in a list in Python?**"
      ],
      "metadata": {
        "id": "hWsjSOQ4d_rj"
      }
    },
    {
      "cell_type": "code",
      "source": [
        "file = open(\"File_3.txt\", \"w\")\n",
        "file.write(\"Line 1\\nLine 2\\nLine 3\")\n",
        "file.close()\n",
        "file = open(\"File_3.txt\", \"r\")\n",
        "lines = file.readlines()\n",
        "list_1 = []\n",
        "for line in lines:\n",
        "    list_1.append(line)\n",
        "file.close()\n",
        "\n",
        "print(list_1)"
      ],
      "metadata": {
        "colab": {
          "base_uri": "https://localhost:8080/"
        },
        "id": "B-ERUEAQeA_8",
        "outputId": "ccd3c6ed-cbf5-4e65-8f6c-e827fa9b0f6d"
      },
      "execution_count": null,
      "outputs": [
        {
          "output_type": "stream",
          "name": "stdout",
          "text": [
            "['Line 1\\n', 'Line 2\\n', 'Line 3']\n"
          ]
        }
      ]
    },
    {
      "cell_type": "markdown",
      "source": [
        "**Q10. How can you append data to an existing file in Python?**"
      ],
      "metadata": {
        "id": "yaNLarfReBVa"
      }
    },
    {
      "cell_type": "code",
      "source": [
        "file = open(\"File_3.txt\", \"a\")\n",
        "file.write(\"\\nLine 4\")\n",
        "file.close()\n",
        "file = open(\"File_3.txt\", \"r\")\n",
        "lines = file.readlines()\n",
        "for line in lines:\n",
        "    print(line)"
      ],
      "metadata": {
        "colab": {
          "base_uri": "https://localhost:8080/"
        },
        "id": "zzRuH2mieBuk",
        "outputId": "aa29f5c7-ee44-4412-8f0f-686b42469f53"
      },
      "execution_count": null,
      "outputs": [
        {
          "output_type": "stream",
          "name": "stdout",
          "text": [
            "Line 1\n",
            "\n",
            "Line 2\n",
            "\n",
            "Line 3\n",
            "\n",
            "Line 4\n"
          ]
        }
      ]
    },
    {
      "cell_type": "markdown",
      "source": [
        "**Q11. Write a Python program that uses a try-except block to handle an error when attempting to access a\n",
        "dictionary key that doesn't exist.**"
      ],
      "metadata": {
        "id": "XWMRbRIJeCAK"
      }
    },
    {
      "cell_type": "code",
      "source": [
        "try:\n",
        "    my_dict = {\"a\": 1, \"b\": 2}\n",
        "    value = my_dict[\"c\"]\n",
        "except KeyError:\n",
        "    print(\"Error: Key not found in dictionary\")"
      ],
      "metadata": {
        "colab": {
          "base_uri": "https://localhost:8080/"
        },
        "id": "du9BPpYqecgH",
        "outputId": "83489475-7493-4d8c-ac9d-37c4c7679cb9"
      },
      "execution_count": null,
      "outputs": [
        {
          "output_type": "stream",
          "name": "stdout",
          "text": [
            "Error: Key not found in dictionary\n"
          ]
        }
      ]
    },
    {
      "cell_type": "markdown",
      "source": [
        "**Q12. Write a program that demonstrates using multiple except blocks to handle different types of exceptions.**"
      ],
      "metadata": {
        "id": "fhQWw_L2ec1M"
      }
    },
    {
      "cell_type": "code",
      "source": [
        "def handle_exceptions():\n",
        "    try:\n",
        "        num = int(input(\"Enter a number: \"))\n",
        "        result = 10 / num\n",
        "        print(f\"The result of 10 divided by {num} is {result}\")\n",
        "\n",
        "        my_dict = {\"a\": 21, \"b\": 50}\n",
        "        key = input(\"Enter a key to access the dictionary: \")\n",
        "        value = my_dict[key]\n",
        "        print(f\"The value for the key '{key}' is {value}\")\n",
        "\n",
        "    except ZeroDivisionError:\n",
        "        print(\"Error: Division by zero is not allowed.\")\n",
        "    except ValueError:\n",
        "        print(\"Error: Invalid input. Please enter a valid number.\")\n",
        "    except KeyError:\n",
        "        print(\"Error: The specified key does not exist in the dictionary.\")\n",
        "    except Exception as e:\n",
        "        print(f\"An unexpected error occurred: {e}\")\n",
        "\n",
        "handle_exceptions()\n"
      ],
      "metadata": {
        "colab": {
          "base_uri": "https://localhost:8080/"
        },
        "id": "BU7t481UejNh",
        "outputId": "cd5706e0-0774-4ffd-9beb-957588e15900"
      },
      "execution_count": 14,
      "outputs": [
        {
          "output_type": "stream",
          "name": "stdout",
          "text": [
            "Enter a number: 10\n",
            "The result of 10 divided by 10 is 1.0\n",
            "Enter a key to access the dictionary: Age\n",
            "Error: The specified key does not exist in the dictionary.\n"
          ]
        }
      ]
    },
    {
      "cell_type": "markdown",
      "source": [
        "**Q13. How would you check if a file exists before attempting to read it in Python?**"
      ],
      "metadata": {
        "id": "pUvgijSpeji8"
      }
    },
    {
      "cell_type": "code",
      "source": [
        "import os\n",
        "if os.path.exists(\"File.txt\"):\n",
        "    print(\"File exists.\")\n",
        "    file = open(\"File.txt\", \"r\")\n",
        "    lines = file.readlines()\n",
        "    for line in lines:\n",
        "      print(line)\n",
        "      file.close()\n",
        "else:\n",
        "    print(\"The File Doesn't Exists\")\n",
        "print(\"Program Execution Eompleted.\")"
      ],
      "metadata": {
        "colab": {
          "base_uri": "https://localhost:8080/"
        },
        "id": "0cRKBoERezlj",
        "outputId": "c6b1b833-3dd1-4528-d6c9-6b8a203a0d69"
      },
      "execution_count": null,
      "outputs": [
        {
          "output_type": "stream",
          "name": "stdout",
          "text": [
            "The File Doesn't Exists\n",
            "Program Execution Eompleted.\n"
          ]
        }
      ]
    },
    {
      "cell_type": "markdown",
      "source": [
        "**Q14. Write a program that uses the logging module to log both informational and error messages.**"
      ],
      "metadata": {
        "id": "pkIkXK5eez6I"
      }
    },
    {
      "cell_type": "code",
      "source": [
        "import logging\n",
        "logging.basicConfig(filename='my_app.log', level=logging.DEBUG,format='%(asctime)s - %(levelname)s - %(message)s',handlers=[logging.StreamHandler()])\n",
        "\n",
        "def divide_numbers(numerator, denominator):\n",
        "    try:\n",
        "        logging.info(\"Attempting to divide %s by %s.\", numerator, denominator)\n",
        "        result = numerator / denominator\n",
        "        logging.info(\"Division successful. Result: %s\", result)\n",
        "        return result\n",
        "    except ZeroDivisionError:\n",
        "        logging.error(\"Error: Division by zero is not allowed. Numerator: %s, Denominator: %s\", numerator, denominator)\n",
        "        return None\n",
        "    except Exception as e:\n",
        "        logging.error(\"An unexpected error occurred: %s\", e)\n",
        "        return None\n",
        "\n",
        "\n",
        "logging.info(\"Program started.\")\n",
        "divide_numbers(50, 2)  # Successful division\n",
        "divide_numbers(40, 0)  # Division by zero error\n",
        "divide_numbers(11, 'a')  # Invalid input\n",
        "logging.info(\"Program ended.\")\n"
      ],
      "metadata": {
        "colab": {
          "base_uri": "https://localhost:8080/"
        },
        "id": "R5-cWaPNe5ey",
        "outputId": "92faa96b-9515-4c53-86dd-c73f32b41cf0"
      },
      "execution_count": 15,
      "outputs": [
        {
          "output_type": "stream",
          "name": "stderr",
          "text": [
            "ERROR:root:Error: Division by zero is not allowed. Numerator: 40, Denominator: 0\n",
            "ERROR:root:An unexpected error occurred: unsupported operand type(s) for /: 'int' and 'str'\n"
          ]
        }
      ]
    },
    {
      "cell_type": "markdown",
      "source": [
        "**Q15. Write a Python program that prints the content of a file and handles the case when the file is empty.**"
      ],
      "metadata": {
        "id": "Bzn2P2oCe5yC"
      }
    },
    {
      "cell_type": "code",
      "source": [
        "def print_file_content(file_name):\n",
        "    try:\n",
        "        with open(file_name, 'w') as file:\n",
        "            file.write(\"File is not empty\")\n",
        "        with open(file_name, 'r') as file:\n",
        "            content = file.read()\n",
        "            if content:\n",
        "                print(content)\n",
        "            else:\n",
        "                print(\"The file is empty.\")\n",
        "    except FileNotFoundError:\n",
        "        print(f\"Error: The file '{file_name}' was not found.\")\n",
        "    except Exception as e:\n",
        "        print(f\"An error occurred: {e}\")\n",
        "\n",
        "#Example usage\n",
        "file_name = 'File_3.txt'  # Replace with the path to your file\n",
        "print_file_content(file_name)\n"
      ],
      "metadata": {
        "colab": {
          "base_uri": "https://localhost:8080/"
        },
        "id": "7n-wvwUUfBHV",
        "outputId": "31fb8d6a-c7a1-472e-d854-8883e861d3a2"
      },
      "execution_count": null,
      "outputs": [
        {
          "output_type": "stream",
          "name": "stdout",
          "text": [
            "File is not empty\n"
          ]
        }
      ]
    },
    {
      "cell_type": "markdown",
      "source": [
        "**Q16. Demonstrate how to use memory profiling to check the memory usage of a small program.**"
      ],
      "metadata": {
        "id": "wvx9DI_bfBgl"
      }
    },
    {
      "cell_type": "code",
      "source": [
        "!pip install memory-profiler\n",
        "from memory_profiler import profile\n",
        "\n",
        "@profile\n",
        "def simple_function():\n",
        "    a = [i for i in range(100000)]  # Create a large list\n",
        "    b = sum(a)  # Calculate the sum of the list\n",
        "    return b\n",
        "\n",
        "if __name__ == \"__main__\":\n",
        "    simple_function()"
      ],
      "metadata": {
        "id": "gynPh_fofLe1",
        "colab": {
          "base_uri": "https://localhost:8080/"
        },
        "outputId": "76f1d24e-bf32-48b5-da1c-e3a28392afb1"
      },
      "execution_count": 7,
      "outputs": [
        {
          "output_type": "stream",
          "name": "stdout",
          "text": [
            "Collecting memory-profiler\n",
            "  Downloading memory_profiler-0.61.0-py3-none-any.whl.metadata (20 kB)\n",
            "Requirement already satisfied: psutil in /usr/local/lib/python3.11/dist-packages (from memory-profiler) (5.9.5)\n",
            "Downloading memory_profiler-0.61.0-py3-none-any.whl (31 kB)\n",
            "Installing collected packages: memory-profiler\n",
            "Successfully installed memory-profiler-0.61.0\n"
          ]
        },
        {
          "output_type": "stream",
          "name": "stderr",
          "text": [
            "\n",
            "PYDEV DEBUGGER WARNING:\n",
            "sys.settrace() should not be used when the debugger is being used.\n",
            "This may cause the debugger to stop working correctly.\n",
            "If this is needed, please check: \n",
            "http://pydev.blogspot.com/2007/06/why-cant-pydev-debugger-work-with.html\n",
            "to see how to restore the debug tracing back correctly.\n",
            "Call Location:\n",
            "  File \"/usr/local/lib/python3.11/dist-packages/memory_profiler.py\", line 847, in enable\n",
            "    sys.settrace(self.trace_memory_usage)\n",
            "\n",
            "\n",
            "PYDEV DEBUGGER WARNING:\n",
            "sys.settrace() should not be used when the debugger is being used.\n",
            "This may cause the debugger to stop working correctly.\n",
            "If this is needed, please check: \n",
            "http://pydev.blogspot.com/2007/06/why-cant-pydev-debugger-work-with.html\n",
            "to see how to restore the debug tracing back correctly.\n",
            "Call Location:\n",
            "  File \"/usr/local/lib/python3.11/dist-packages/memory_profiler.py\", line 850, in disable\n",
            "    sys.settrace(self._original_trace_function)\n",
            "\n"
          ]
        },
        {
          "output_type": "stream",
          "name": "stdout",
          "text": [
            "ERROR: Could not find file <ipython-input-7-46fc88c0a1ca>\n",
            "NOTE: %mprun can only be used on functions defined in physical files, and not in the IPython environment.\n"
          ]
        }
      ]
    },
    {
      "cell_type": "markdown",
      "source": [
        "**Q17. Write a Python program to create and write a list of numbers to a file, one number per line.**"
      ],
      "metadata": {
        "id": "7b_e94RwfL1x"
      }
    },
    {
      "cell_type": "code",
      "source": [
        "def write_numbers_to_file(file_name, numbers):\n",
        "    try:\n",
        "        with open(file_name, 'w') as file:\n",
        "            for number in numbers:\n",
        "                file.write(f\"{number}\\n\")  # Write each number on a new line\n",
        "        with open(file_name, 'r') as file:\n",
        "            print(file.read())\n",
        "    except FileNotFoundError:\n",
        "        print(f\"Error: The file '{file_name}' was not found.\")\n",
        "    except Exception as e:\n",
        "        print(f\"An error occurred: {e}\")\n",
        "\n",
        "# Example usage\n",
        "numbers = [1, 2, 3, 4, 5, 6, 7, 8, 9, 10]\n",
        "file_name = 'numbers.txt'\n",
        "write_numbers_to_file(file_name, numbers)"
      ],
      "metadata": {
        "colab": {
          "base_uri": "https://localhost:8080/"
        },
        "id": "JUM3LDR5fUWo",
        "outputId": "6f5ecd67-cde4-4f1a-e43b-00f3551bdded"
      },
      "execution_count": null,
      "outputs": [
        {
          "output_type": "stream",
          "name": "stdout",
          "text": [
            "1\n",
            "2\n",
            "3\n",
            "4\n",
            "5\n",
            "6\n",
            "7\n",
            "8\n",
            "9\n",
            "10\n",
            "\n"
          ]
        }
      ]
    },
    {
      "cell_type": "markdown",
      "source": [
        "**Q18. How would you implement a basic logging setup that logs to a file with rotation after 1MB?**"
      ],
      "metadata": {
        "id": "b1e810OofUpU"
      }
    },
    {
      "cell_type": "code",
      "source": [
        "import logging\n",
        "from logging.handlers import RotatingFileHandler\n",
        "\n",
        "log_file = 'app.log'\n",
        "log_formatter = logging.Formatter('%(asctime)s - %(levelname)s - %(message)s')\n",
        "\n",
        "handler = RotatingFileHandler(log_file, maxBytes=1*1024*1024, backupCount=5)\n",
        "handler.setFormatter(log_formatter)\n",
        "\n",
        "logger = logging.getLogger()\n",
        "logger.setLevel(logging.DEBUG)\n",
        "logger.addHandler(handler)\n",
        "\n",
        "def main():\n",
        "    logger.info(\"This is an informational message.\")\n",
        "    logger.debug(\"This is a debug message.\")\n",
        "    logger.warning(\"This is a warning message.\")\n",
        "    logger.error(\"This is an error message.\")\n",
        "    logger.critical(\"This is a critical message.\")\n",
        "\n",
        "if __name__ == \"__main__\":\n",
        "    main()\n",
        "    print(\"Logging setup complete. Check the log file for messages.\")"
      ],
      "metadata": {
        "id": "WdHoS6KCfb0e",
        "colab": {
          "base_uri": "https://localhost:8080/"
        },
        "outputId": "cf163eed-fb45-46dc-900c-ae6c4b4b6525"
      },
      "execution_count": 1,
      "outputs": [
        {
          "output_type": "stream",
          "name": "stderr",
          "text": [
            "INFO:root:This is an informational message.\n",
            "DEBUG:root:This is a debug message.\n",
            "WARNING:root:This is a warning message.\n",
            "ERROR:root:This is an error message.\n",
            "CRITICAL:root:This is a critical message.\n"
          ]
        },
        {
          "output_type": "stream",
          "name": "stdout",
          "text": [
            "Logging setup complete. Check the log file for messages.\n"
          ]
        }
      ]
    },
    {
      "cell_type": "markdown",
      "source": [
        "**Q19. Write a program that handles both IndexError and KeyError using a try-except block.**"
      ],
      "metadata": {
        "id": "cFC3mqIEfcIw"
      }
    },
    {
      "cell_type": "code",
      "source": [
        "my_list = [1, 2, 3]\n",
        "my_dict = {\"a\": 1, \"b\": 2}\n",
        "\n",
        "try:\n",
        "    print(my_list[5])\n",
        "except IndexError:\n",
        "    print(\"Error: List index out of range.\")\n",
        "\n",
        "try:\n",
        "    value = my_dict[\"c\"]\n",
        "    print(value)\n",
        "except KeyError:\n",
        "    print(\"Error: The specified key does not exist in the dictionary.\")"
      ],
      "metadata": {
        "id": "n1Wzyd81fjgq",
        "colab": {
          "base_uri": "https://localhost:8080/"
        },
        "outputId": "d3f03066-cac9-48ae-b136-719113f52c83"
      },
      "execution_count": 2,
      "outputs": [
        {
          "output_type": "stream",
          "name": "stdout",
          "text": [
            "Error: List index out of range.\n",
            "Error: The specified key does not exist in the dictionary.\n"
          ]
        }
      ]
    },
    {
      "cell_type": "markdown",
      "source": [
        "**Q20.  How would you open a file and read its contents using a context manager in Python?**"
      ],
      "metadata": {
        "id": "iWPTs60Xfj2u"
      }
    },
    {
      "cell_type": "code",
      "source": [
        "def read_file(file_name):\n",
        "    try:\n",
        "        with open(file_name, 'w') as file:\n",
        "            file.write(\"Hello,World!\")\n",
        "        with open(file_name, 'r') as file:\n",
        "            content = file.read()  # Read the entire file content\n",
        "            return content\n",
        "    except FileNotFoundError:\n",
        "        print(f\"The file {file_name} was not found.\")\n",
        "    except Exception as e:\n",
        "        print(f\"An error occurred: {e}\")\n",
        "\n",
        "file_name = 'File.txt'\n",
        "content = read_file(file_name)\n",
        "\n",
        "if content:\n",
        "    print(content)\n"
      ],
      "metadata": {
        "id": "90d3uLQBfoNb",
        "colab": {
          "base_uri": "https://localhost:8080/"
        },
        "outputId": "3fb4cb4a-47c1-47d3-90b1-ead9c02ef275"
      },
      "execution_count": null,
      "outputs": [
        {
          "output_type": "stream",
          "name": "stdout",
          "text": [
            "Hello,World!\n"
          ]
        }
      ]
    },
    {
      "cell_type": "markdown",
      "source": [
        "**Q21. Write a Python program that reads a file and prints the number of occurrences of a specific word.**"
      ],
      "metadata": {
        "id": "IE5pPADKfoga"
      }
    },
    {
      "cell_type": "code",
      "source": [
        "def count_word_occurrences(file_path, word):\n",
        "    try:\n",
        "        with open(file_path, 'w') as file:\n",
        "            file.write(\"Hello, My Name is Harshit Shandilya\")\n",
        "        with open(file_path, 'r') as file:\n",
        "            content = file.read()\n",
        "            words = content.lower().split()  # Convert to lowercase and split into words\n",
        "            return words.count(word.lower())  # Count occurrences of the word (case-insensitive)\n",
        "    except FileNotFoundError:\n",
        "        print(f\"Error: File '{file_path}' not found.\")\n",
        "        return -1\n",
        "    except Exception as e:\n",
        "        print(f\"An error occurred: {e}\")\n",
        "        return -1\n",
        "\n",
        "file_path = 'File.txt'  # Replace with your file path\n",
        "word_to_count = 'Harshit'  # Replace with the word you want to count\n",
        "occurrences = count_word_occurrences(file_path, word_to_count)\n",
        "\n",
        "if occurrences != -1:\n",
        "    print(f\"The word '{word_to_count}' appears {occurrences} times in the file.\")"
      ],
      "metadata": {
        "id": "VZ2QBa5GftwE",
        "colab": {
          "base_uri": "https://localhost:8080/"
        },
        "outputId": "358caba0-037d-4e25-bc36-e97d89fd9a0b"
      },
      "execution_count": 2,
      "outputs": [
        {
          "output_type": "stream",
          "name": "stdout",
          "text": [
            "The word 'Harshit' appears 1 times in the file.\n"
          ]
        }
      ]
    },
    {
      "cell_type": "markdown",
      "source": [
        "**Q22. How can you check if a file is empty before attempting to read its contents?**"
      ],
      "metadata": {
        "id": "D6RZD299fuCm"
      }
    },
    {
      "cell_type": "code",
      "source": [
        "import os\n",
        "if os.path.exists(\"File.txt\"):\n",
        "    print(\"File exists.\")\n",
        "    file = open(\"File.txt\", \"r\")\n",
        "    lines = file.readlines()\n",
        "    for line in lines:\n",
        "      print(line)\n",
        "      file.close()\n",
        "else:\n",
        "    print(\"The File Doesn't Exists\")\n",
        "print(\"Program Execution Eompleted.\")"
      ],
      "metadata": {
        "id": "GvRm_N4ifynn",
        "colab": {
          "base_uri": "https://localhost:8080/"
        },
        "outputId": "ce3dd309-69fc-4600-c07e-ca9e55935c50"
      },
      "execution_count": 3,
      "outputs": [
        {
          "output_type": "stream",
          "name": "stdout",
          "text": [
            "File exists.\n",
            "Hello, My Name is Harshit Shandilya\n",
            "Program Execution Eompleted.\n"
          ]
        }
      ]
    },
    {
      "cell_type": "markdown",
      "source": [
        "**Q23. Write a Python program that writes to a log file when an error occurs during file handling.**"
      ],
      "metadata": {
        "id": "m_zlqnl6fy8K"
      }
    },
    {
      "cell_type": "code",
      "source": [
        "import logging\n",
        "try:\n",
        "  file = open(\"example.txt\", \"r\")\n",
        "except FileNotFoundError:\n",
        "  logging.basicConfig(filename = \"File.log\", level = logging.ERROR, format = '%(asctime)s %(levelname)s %(message)s')\n",
        "  logging.error(\"File not found\")\n",
        "print(\"The Program Executed Succesfully\")"
      ],
      "metadata": {
        "id": "PEXmXAfnf5d3",
        "colab": {
          "base_uri": "https://localhost:8080/"
        },
        "outputId": "6801921b-7589-4bee-f268-1b8f07363458"
      },
      "execution_count": 6,
      "outputs": [
        {
          "output_type": "stream",
          "name": "stderr",
          "text": [
            "ERROR:root:File not found\n"
          ]
        },
        {
          "output_type": "stream",
          "name": "stdout",
          "text": [
            "The Program Executed Succesfully\n"
          ]
        }
      ]
    }
  ]
}