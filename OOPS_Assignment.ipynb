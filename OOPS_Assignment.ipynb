{
  "nbformat": 4,
  "nbformat_minor": 0,
  "metadata": {
    "colab": {
      "provenance": []
    },
    "kernelspec": {
      "name": "python3",
      "display_name": "Python 3"
    },
    "language_info": {
      "name": "python"
    }
  },
  "cells": [
    {
      "cell_type": "markdown",
      "source": [
        "#OOPs Theory Questions"
      ],
      "metadata": {
        "id": "Ox8ml92bHLCh"
      }
    },
    {
      "cell_type": "markdown",
      "source": [
        "Q1- What is Object-Oriented Programming (OOP)?\n",
        "- Object-Oriented Programming (OOP) is a programming paradigm that organizes software design around data (objects) and methods (functions) that operate on the data. The core concepts of OOP include encapsulation, inheritance, abstraction, and polymorphism. OOP aims to model real-world entities and their interactions to make software more modular, reusable, and maintainable.\n",
        "\n",
        "\n"
      ],
      "metadata": {
        "id": "-f_Cgwf5HRiW"
      }
    },
    {
      "cell_type": "markdown",
      "source": [
        "Q2- What is a class in OOP?\n",
        "- A class in OOP is a blueprint for creating objects. It defines a data structure and methods that work on the data. A class serves as a template for creating instances (objects), which hold specific data and can invoke methods defined in the class.\n",
        "\n"
      ],
      "metadata": {
        "id": "NtuUtyQjHhXr"
      }
    },
    {
      "cell_type": "markdown",
      "source": [
        "Q3- What is an object in OOP?\n",
        "- An object in OOP is an instance of a class. It represents an entity that contains both data (attributes) and behavior (methods). For example, if you have a class `Car`, an object would be a specific car, such as a red Toyota.\n",
        "\n"
      ],
      "metadata": {
        "id": "jkTAvZGsHmw6"
      }
    },
    {
      "cell_type": "markdown",
      "source": [
        "Q4- What is the difference between abstraction and encapsulation?\n",
        "- **Abstraction** is the concept of hiding the complex implementation details and exposing only the essential features or interface. For example, you interact with a car's steering wheel without needing to know how the engine works.\n",
        "- **Encapsulation** is the bundling of data (attributes) and methods (functions) that operate on the data into a single unit (class). It also involves restricting direct access to some of an object's components, typically through private variables and methods.\n",
        "\n"
      ],
      "metadata": {
        "id": "rupleTY5HrzW"
      }
    },
    {
      "cell_type": "markdown",
      "source": [
        "Q5- What are dunder methods in Python?\n",
        "- Dunder methods (short for \"double underscore\") are special methods in Python that have a specific purpose, such as `__init__`, `__str__`, `__repr__`, and others. These methods are automatically called by Python when certain operations are performed on objects (e.g., `__init__` for initialization, `__str__` for string representation).\n",
        "\n"
      ],
      "metadata": {
        "id": "dlx-7y4pHvaj"
      }
    },
    {
      "cell_type": "markdown",
      "source": [
        "Q6- Explain the concept of inheritance in OOP.\n",
        "- Inheritance is a mechanism in OOP where one class (child or subclass) inherits properties and methods from another class (parent or superclass). It allows the child class to reuse the functionality of the parent class and extend or modify it as needed.\n",
        "\n"
      ],
      "metadata": {
        "id": "Bu_7ArsrH1T6"
      }
    },
    {
      "cell_type": "markdown",
      "source": [
        "Q7- What is polymorphism in OOP?\n",
        "- Polymorphism allows objects of different classes to be treated as instances of the same class through inheritance. It enables a method to behave differently depending on the object calling it. Polymorphism is often implemented through method overriding or duck typing.\n",
        "\n"
      ],
      "metadata": {
        "id": "xTjmsxvEH4l3"
      }
    },
    {
      "cell_type": "markdown",
      "source": [
        "Q8- How is encapsulation achieved in Python?\n",
        "- Encapsulation in Python is achieved by defining classes with private or protected variables (prefixing them with `_` or `__`) and using getter and setter methods to control access to these variables. Python does not strictly enforce encapsulation, but these naming conventions help indicate private or protected data.\n",
        "\n"
      ],
      "metadata": {
        "id": "W7k5YC7iH7V5"
      }
    },
    {
      "cell_type": "markdown",
      "source": [
        "Q9- What is a constructor in Python?\n",
        "- A constructor in Python is a special method `__init__` that is automatically called when an object of a class is created. It initializes the object's attributes.\n",
        "\n"
      ],
      "metadata": {
        "id": "2yscwqb5H_Qp"
      }
    },
    {
      "cell_type": "markdown",
      "source": [
        "Q10- What are class and static methods in Python?\n",
        "- **Class Method**: A method that is bound to the class, rather than an instance. It can be called on the class itself, and it receives the class as the first argument (`cls`). It is defined using the `@classmethod` decorator.\n",
        "- **Static Method**: A method that doesn't take an instance or class as the first argument. It is independent of the class state and can be called on the class or instance. It is defined using the `@staticmethod` decorator."
      ],
      "metadata": {
        "id": "rZWVD3oEIB--"
      }
    },
    {
      "cell_type": "markdown",
      "source": [
        "Q11- What is method overloading in Python?\n",
        "- Python does not support method overloading in the traditional sense (same method name with different parameters). However, method overloading can be simulated by using default parameters or variable-length argument lists (`*args` and `**kwargs`).\n",
        "\n"
      ],
      "metadata": {
        "id": "a0UdWri1IEj6"
      }
    },
    {
      "cell_type": "markdown",
      "source": [
        "Q12- What is method overriding in Python?\n",
        "- Method overriding occurs when a subclass provides a specific implementation of a method that is already defined in its superclass. This allows the subclass to modify the behavior of the inherited method.\n",
        "\n"
      ],
      "metadata": {
        "id": "SxuqOlPJIHAD"
      }
    },
    {
      "cell_type": "markdown",
      "source": [
        "Q13- What is a property decorator in Python?\n",
        "- The `@property` decorator in Python is used to define a method as a property, meaning it can be accessed like an attribute but is backed by a method. This allows you to manage the attribute's behavior when accessed or set.\n",
        "\n"
      ],
      "metadata": {
        "id": "pUzheLI6IJp3"
      }
    },
    {
      "cell_type": "markdown",
      "source": [
        "Q14- Why is polymorphism important in OOP?\n",
        "- Polymorphism is important because it allows for flexibility and extensibility in code. It enables different types to be handled uniformly, making it easier to write generic functions and increase code reusability.\n",
        "\n"
      ],
      "metadata": {
        "id": "5WZBQ2ZaIMPV"
      }
    },
    {
      "cell_type": "markdown",
      "source": [
        "Q15- What is an abstract class in Python?\n",
        "- An abstract class in Python is a class that cannot be instantiated and is meant to be inherited by other classes. It may contain abstract methods (methods without implementation) that must be implemented by any subclass. Abstract classes are defined using the `abc` module.\n",
        "\n"
      ],
      "metadata": {
        "id": "EF8ZNgZfIO2j"
      }
    },
    {
      "cell_type": "markdown",
      "source": [
        "Q16- What are the advantages of OOP?\n",
        "- **Modularity**: Code is organized into classes and objects, making it easier to maintain.\n",
        "- **Reusability**: Classes and methods can be reused across different parts of the application.\n",
        "- **Scalability**: It is easier to extend functionality in an object-oriented design.\n",
        "- **Encapsulation**: Data and methods are bundled together, leading to a more secure and manageable design.\n",
        "\n"
      ],
      "metadata": {
        "id": "_KzwWJl9ISHb"
      }
    },
    {
      "cell_type": "markdown",
      "source": [
        "Q17- What is the difference between a class variable and an instance variable?\n",
        "- **Class Variable**: A variable that is shared by all instances of a class. It is defined within the class but outside of any methods.\n",
        "- **Instance Variable**: A variable that is specific to an instance of a class. It is typically defined inside the `__init__` method.\n",
        "\n"
      ],
      "metadata": {
        "id": "5riAJMp9IUTB"
      }
    },
    {
      "cell_type": "markdown",
      "source": [
        "Q18- What is multiple inheritance in Python?\n",
        "- Multiple inheritance occurs when a class inherits from more than one class. In Python, a class can inherit from multiple classes, allowing it to combine behavior from more than one parent class.\n",
        "\n"
      ],
      "metadata": {
        "id": "Kq-hX0sVIWjf"
      }
    },
    {
      "cell_type": "markdown",
      "source": [
        "Q19- Explain the purpose of ‘’__str__’ and ‘__repr__’ ‘ methods in Python.\n",
        "- `__str__`: This method returns a human-readable string representation of an object. It is used by the `str()` function and `print()`.\n",
        "- `__repr__`: This method returns an official string representation of an object, ideally one that could be used to recreate the object. It is used by the `repr()` function.\n",
        "\n"
      ],
      "metadata": {
        "id": "N-3BGiyGIYfQ"
      }
    },
    {
      "cell_type": "markdown",
      "source": [
        "Q20- What is the significance of the ‘super()’ function in Python?\n",
        "- The `super()` function is used to call methods from a superclass in a child class. It is useful for method overriding and accessing the base class's functionality while extending it.\n",
        "\n"
      ],
      "metadata": {
        "id": "ta97YtCZIaV9"
      }
    },
    {
      "cell_type": "markdown",
      "source": [
        "Q21- What is the significance of the __del__ method in Python?\n",
        "- The `__del__` method is called when an object is about to be destroyed. It is typically used for cleanup, such as releasing external resources or closing files.\n",
        "\n"
      ],
      "metadata": {
        "id": "OKv9kFFwInhM"
      }
    },
    {
      "cell_type": "markdown",
      "source": [
        "Q22- What is the difference between @staticmethod and @classmethod in Python?\n",
        "- **@staticmethod**: Defines a method that doesn't require access to the instance or class. It doesn't take `self` or `cls` as the first argument.\n",
        "- **@classmethod**: Defines a method that operates on the class itself, and it takes the class as the first argument (`cls`).\n",
        "\n"
      ],
      "metadata": {
        "id": "81aspbS1Irpj"
      }
    },
    {
      "cell_type": "markdown",
      "source": [
        "Q23- How does polymorphism work in Python with inheritance?\n",
        "- Polymorphism in Python can be achieved through inheritance by overriding methods in subclasses. This allows different subclasses to provide their specific implementations of the same method, even if they share the same name.\n",
        "\n"
      ],
      "metadata": {
        "id": "XxGm7dEuIttA"
      }
    },
    {
      "cell_type": "markdown",
      "source": [
        "Q24- What is method chaining in Python OOP?\n",
        "- Method chaining is a technique where multiple methods are called on the same object in a single line. This is possible when each method returns `self`, allowing subsequent method calls to be made on the same instance.\n",
        "\n"
      ],
      "metadata": {
        "id": "LFlS2hNUIvRh"
      }
    },
    {
      "cell_type": "markdown",
      "source": [
        "Q25- What is the purpose of the __call__ method in Python?\n",
        "- The `__call__` method allows an object to be called as if it were a function. When you define `__call__` in a class, you can invoke an instance like a function, enabling dynamic behavior."
      ],
      "metadata": {
        "id": "aKDyJI3_Iwx1"
      }
    },
    {
      "cell_type": "markdown",
      "source": [
        "#OOPs Practical Questions"
      ],
      "metadata": {
        "id": "SRmYmYEZMFtX"
      }
    },
    {
      "cell_type": "markdown",
      "source": [
        "Q1- Create a parent class Animal with a method speak() that prints a generic message. Create a child class Dog\n",
        "that overrides the speak() method to print \"Bark!\""
      ],
      "metadata": {
        "id": "NvrqWLjBMMQr"
      }
    },
    {
      "cell_type": "code",
      "source": [
        "class Animal:\n",
        "    def speak(self):\n",
        "        print(\"Some Generic Sound\")\n",
        "class Dog(Animal):\n",
        "    def speak(self):\n",
        "        print(\"Bark!\")\n",
        "\n",
        "generic_animal = Animal()\n",
        "dog = Dog()\n",
        "\n",
        "generic_animal.speak()\n",
        "dog.speak()\n"
      ],
      "metadata": {
        "colab": {
          "base_uri": "https://localhost:8080/"
        },
        "id": "VSGp3HgOMw-C",
        "outputId": "e8dbd1b0-6f80-4d42-cf9e-750f5e9fd29f"
      },
      "execution_count": 19,
      "outputs": [
        {
          "output_type": "stream",
          "name": "stdout",
          "text": [
            "Some Generic Sound\n",
            "Bark!\n"
          ]
        }
      ]
    },
    {
      "cell_type": "markdown",
      "source": [
        "Q2- Write a program to create an abstract class Shape with a method area(). Derive classes Circle and Rectangle\n",
        "from it and implement the area() method in both."
      ],
      "metadata": {
        "id": "FvkVfc8xNUXe"
      }
    },
    {
      "cell_type": "code",
      "source": [
        "from abc import ABC, abstractmethod\n",
        "import math\n",
        "\n",
        "class Shape(ABC):\n",
        "    @abstractmethod\n",
        "    def area(self):\n",
        "        pass\n",
        "\n",
        "class Circle(Shape):\n",
        "    def __init__(self, radius):\n",
        "        self.radius = radius\n",
        "\n",
        "    def area(self):\n",
        "        return math.pi * self.radius**2\n",
        "\n",
        "class Rectangle(Shape):\n",
        "    def __init__(self, width, height):\n",
        "        self.width = width\n",
        "        self.height = height\n",
        "\n",
        "    def area(self):\n",
        "        return self.width * self.height\n",
        "\n",
        "circle = Circle(5)\n",
        "print(\"Circle area:\", circle.area())\n",
        "\n",
        "rectangle = Rectangle(4, 6)\n",
        "print(\"Rectangle area:\", rectangle.area())"
      ],
      "metadata": {
        "colab": {
          "base_uri": "https://localhost:8080/"
        },
        "id": "IgkWc8HLNUxh",
        "outputId": "8e4f1fd0-468d-4582-a6b2-62d018aeaf4d"
      },
      "execution_count": 18,
      "outputs": [
        {
          "output_type": "stream",
          "name": "stdout",
          "text": [
            "Circle area: 78.53981633974483\n",
            "Rectangle area: 24\n"
          ]
        }
      ]
    },
    {
      "cell_type": "markdown",
      "source": [
        "Q3- Implement a multi-level inheritance scenario where a class Vehicle has an attribute type. Derive a class Car\n",
        "and further derive a class ElectricCar that adds a battery attribute."
      ],
      "metadata": {
        "id": "4yu_78MgNFZI"
      }
    },
    {
      "cell_type": "code",
      "source": [
        "class Vehicle:\n",
        "    def __init__(self, vehicle_type):\n",
        "        self.vehicle_type = vehicle_type\n",
        "\n",
        "class Car(Vehicle):\n",
        "    def __init__(self, vehicle_type, brand, model):\n",
        "        super().__init__(vehicle_type)\n",
        "        self.brand = brand\n",
        "        self.model = model\n",
        "\n",
        "class ElectricCar(Car):\n",
        "    def __init__(self, vehicle_type, brand, model, battery_capacity):\n",
        "        super().__init__(vehicle_type, brand, model)\n",
        "        self.battery_capacity = battery_capacity\n",
        "\n",
        "#i'm using `\\n` to print all the details in new line\n",
        "    def display_info(self):\n",
        "        return (f\"Type: {self.vehicle_type},\\nBrand: {self.brand},\\nModel: {self.model}, \"\n",
        "                f\"\\nBattery Capacity: {self.battery_capacity} kWh\")\n",
        "\n",
        "electric_car = ElectricCar(\"Electric\", \"Tesla\", \"Model S\", 100)\n",
        "\n",
        "print(electric_car.display_info())"
      ],
      "metadata": {
        "colab": {
          "base_uri": "https://localhost:8080/"
        },
        "id": "mIKY4P2-NGoV",
        "outputId": "9ef2635c-8d09-4496-85df-b4a1a3229e5c"
      },
      "execution_count": 17,
      "outputs": [
        {
          "output_type": "stream",
          "name": "stdout",
          "text": [
            "Type: Electric,\n",
            "Brand: Tesla,\n",
            "Model: Model S, \n",
            "Battery Capacity: 100 kWh\n"
          ]
        }
      ]
    },
    {
      "cell_type": "markdown",
      "source": [
        "Q4- Implement a multi-level inheritance scenario where a class Vehicle has an attribute type. Derive a class Car\n",
        "and further derive a class ElectricCar that adds a battery attribute."
      ],
      "metadata": {
        "id": "AR6rVl-yNgnE"
      }
    },
    {
      "cell_type": "code",
      "source": [
        "class Vehicle:\n",
        "    def __init__(self, vehicle_type):\n",
        "        self.vehicle_type = vehicle_type\n",
        "\n",
        "class Car(Vehicle):\n",
        "    def __init__(self, vehicle_type, brand, model):\n",
        "        super().__init__(vehicle_type)\n",
        "        self.brand = brand\n",
        "        self.model = model\n",
        "\n",
        "class ElectricCar(Car):\n",
        "    def __init__(self, vehicle_type, brand, model, battery_capacity):\n",
        "        super().__init__(vehicle_type, brand, model)\n",
        "        self.battery_capacity = battery_capacity\n",
        "\n",
        "#i'm using `\\n` to print all the details in new line\n",
        "    def display_info(self):\n",
        "        return (f\"Type: {self.vehicle_type},\\nBrand: {self.brand},\\nModel: {self.model}, \"\n",
        "                f\"\\nBattery Capacity: {self.battery_capacity} kWh\")\n",
        "\n",
        "electric_car = ElectricCar(\"Electric\", \"Tesla\", \"Model S\", 100)\n",
        "\n",
        "print(electric_car.display_info())"
      ],
      "metadata": {
        "colab": {
          "base_uri": "https://localhost:8080/"
        },
        "id": "y13DMuJ_NgSB",
        "outputId": "84a1d83b-34b4-428d-c409-099c910f1835"
      },
      "execution_count": 16,
      "outputs": [
        {
          "output_type": "stream",
          "name": "stdout",
          "text": [
            "Type: Electric,\n",
            "Brand: Tesla,\n",
            "Model: Model S, \n",
            "Battery Capacity: 100 kWh\n"
          ]
        }
      ]
    },
    {
      "cell_type": "markdown",
      "source": [
        "Q5- Write a program to demonstrate encapsulation by creating a class BankAccount with private attributes\n",
        "balance and methods to deposit, withdraw, and check balance."
      ],
      "metadata": {
        "id": "hwWNAslsNr5s"
      }
    },
    {
      "cell_type": "code",
      "source": [
        "class BankAccount:\n",
        "    def __init__(self, initial_balance=0):\n",
        "        self.__balance = initial_balance\n",
        "\n",
        "    def deposit(self, amount):\n",
        "        if amount > 0:\n",
        "            self.__balance += amount\n",
        "            print(f\"Deposited ₹{amount} to your account no. xxxx69 successfully!!. \\n->New balance: ₹{self.__balance}\")\n",
        "        else:\n",
        "            print(\"Invalid deposit amount.\")\n",
        "\n",
        "    def withdraw(self, amount):\n",
        "        if 0 < amount <= self.__balance:\n",
        "            self.__balance -= amount\n",
        "            print(f\"Withdrew ₹{amount} from your account no. xxxx69 successfully!!. \\n->New balance: ₹{self.__balance}\")\n",
        "        else:\n",
        "            print(f\"Oops!! Invalid withdrawal amount or insufficient funds. Your Current balance is ₹{self.__balance}\")\n",
        "\n",
        "    def check_balance(self):\n",
        "        print(f\"-->Current balance: ₹{self.__balance}\")\n",
        "\n",
        "account = BankAccount(1000)\n",
        "account.deposit(500)\n",
        "account.withdraw(200)\n",
        "#I'm writing another withdraw in case of insufficient balance.\n",
        "account.withdraw(1500)"
      ],
      "metadata": {
        "colab": {
          "base_uri": "https://localhost:8080/"
        },
        "id": "dWswR3G0Nrdm",
        "outputId": "e78a1549-ff4a-46a2-a157-c9edf529c63a"
      },
      "execution_count": 15,
      "outputs": [
        {
          "output_type": "stream",
          "name": "stdout",
          "text": [
            "Deposited ₹500 to your account no. xxxx69 successfully!!. \n",
            "->New balance: ₹1500\n",
            "Withdrew ₹200 from your account no. xxxx69 successfully!!. \n",
            "->New balance: ₹1300\n",
            "Oops!! Invalid withdrawal amount or insufficient funds. Your Current balance is ₹1300\n"
          ]
        }
      ]
    },
    {
      "cell_type": "markdown",
      "source": [
        "Q6- Demonstrate runtime polymorphism using a method play() in a base class Instrument. Derive classes Guitar\n",
        "and Piano that implement their own version of play()."
      ],
      "metadata": {
        "id": "ikAS3aZqNrOW"
      }
    },
    {
      "cell_type": "code",
      "source": [
        "class Instrument:\n",
        "    def play(self):\n",
        "        raise NotImplementedError(\"Subclass must implement abstract method\")\n",
        "class Guitar(Instrument):\n",
        "    def play(self):\n",
        "        print(\"Playing the guitar\")\n",
        "\n",
        "class Piano(Instrument):\n",
        "    def play(self):\n",
        "        print(\"Playing the piano\")\n",
        "def play_instrument(instrument: Instrument):\n",
        "    instrument.play()\n",
        "\n",
        "guitar = Guitar()\n",
        "piano = Piano()\n",
        "\n",
        "play_instrument(guitar)\n",
        "play_instrument(piano)"
      ],
      "metadata": {
        "colab": {
          "base_uri": "https://localhost:8080/"
        },
        "id": "6JksK1hpN5n0",
        "outputId": "f0a4fa49-a071-48b0-c303-4e0c9a31eb6c"
      },
      "execution_count": 14,
      "outputs": [
        {
          "output_type": "stream",
          "name": "stdout",
          "text": [
            "Playing the guitar\n",
            "Playing the piano\n"
          ]
        }
      ]
    },
    {
      "cell_type": "markdown",
      "source": [
        "Q7- Create a class MathOperations with a class method add_numbers() to add two numbers and a static\n",
        "method subtract_numbers() to subtract two numbers."
      ],
      "metadata": {
        "id": "amE9kOdPOEtu"
      }
    },
    {
      "cell_type": "code",
      "source": [
        "class MathOperations:\n",
        "    @classmethod\n",
        "    def add_numbers(cls, a, b):\n",
        "        return a + b\n",
        "\n",
        "    @staticmethod\n",
        "    def subtract_numbers(a, b):\n",
        "        return a - b\n",
        "\n",
        "# Example usage\n",
        "result_add = MathOperations.add_numbers(25, 5)\n",
        "result_subtract = MathOperations.subtract_numbers(11, 5)\n",
        "\n",
        "print(f\"Addition result: {result_add}\")\n",
        "print(f\"Subtraction result: {result_subtract}\")"
      ],
      "metadata": {
        "colab": {
          "base_uri": "https://localhost:8080/"
        },
        "id": "lU1tTxyOOEfJ",
        "outputId": "32a589c7-a60f-4404-9bc7-95397551ba94"
      },
      "execution_count": 13,
      "outputs": [
        {
          "output_type": "stream",
          "name": "stdout",
          "text": [
            "Addition result: 30\n",
            "Subtraction result: 6\n"
          ]
        }
      ]
    },
    {
      "cell_type": "markdown",
      "source": [
        "Q8- Implement a class Person with a class method to count the total number of persons created."
      ],
      "metadata": {
        "id": "ni-LmLesOER5"
      }
    },
    {
      "cell_type": "code",
      "source": [
        "class Person:\n",
        "    count = 0\n",
        "    def __init__(self, name):\n",
        "        self.name = name\n",
        "        Person.count += 1\n",
        "\n",
        "    @classmethod\n",
        "    def total_persons(cls):\n",
        "        return cls.count\n",
        "\n",
        "person1 = Person(\"AVINESH\")\n",
        "person2 = Person(\"ADITYA\")\n",
        "person3 = Person(\"ROHAN\")\n",
        "\n",
        "print(\"Total number of persons:\", Person.total_persons())"
      ],
      "metadata": {
        "colab": {
          "base_uri": "https://localhost:8080/"
        },
        "id": "VkVMicfxOEFm",
        "outputId": "654f4ec6-030c-4637-9f86-f43898846434"
      },
      "execution_count": 12,
      "outputs": [
        {
          "output_type": "stream",
          "name": "stdout",
          "text": [
            "Total number of persons: 3\n"
          ]
        }
      ]
    },
    {
      "cell_type": "markdown",
      "source": [
        "Q9- Write a class Fraction with attributes numerator and denominator. Override the str method to display the\n",
        "fraction as \"numerator/denominator\"."
      ],
      "metadata": {
        "id": "wY54XA_wOD5p"
      }
    },
    {
      "cell_type": "code",
      "source": [
        "class Fraction:\n",
        "    def __init__(self, numerator, denominator):\n",
        "        self.numerator = numerator\n",
        "        self.denominator = denominator\n",
        "\n",
        "    def __str__(self):\n",
        "        return f\"{self.numerator}/{self.denominator}\"\n",
        "\n",
        "fraction = Fraction(3, 4)\n",
        "print(fraction)"
      ],
      "metadata": {
        "colab": {
          "base_uri": "https://localhost:8080/"
        },
        "id": "p0pZQXT0ODuK",
        "outputId": "24693bba-c969-47c7-a2f3-a51230651c5b"
      },
      "execution_count": 11,
      "outputs": [
        {
          "output_type": "stream",
          "name": "stdout",
          "text": [
            "3/4\n"
          ]
        }
      ]
    },
    {
      "cell_type": "markdown",
      "source": [
        "Q10- Demonstrate operator overloading by creating a class Vector and overriding the add method to add two\n",
        "vectors."
      ],
      "metadata": {
        "id": "wiRzj4vfODhN"
      }
    },
    {
      "cell_type": "code",
      "source": [
        "class Vector:\n",
        "    def __init__(self, x, y):\n",
        "        self.x = x\n",
        "        self.y = y\n",
        "\n",
        "    def __add__(self, other):\n",
        "        return Vector(self.x + other.x, self.y + other.y)\n",
        "\n",
        "    def __str__(self):\n",
        "        return f\"({self.x}, {self.y})\"\n",
        "\n",
        "v1 = Vector(1, 2)\n",
        "v2 = Vector(3, 4)\n",
        "v3 = v1 + v2\n",
        "print(v3)"
      ],
      "metadata": {
        "colab": {
          "base_uri": "https://localhost:8080/"
        },
        "id": "aTFDC6l4ODLO",
        "outputId": "68d85a72-1da5-435b-e32e-bb6ac7d4383f"
      },
      "execution_count": 10,
      "outputs": [
        {
          "output_type": "stream",
          "name": "stdout",
          "text": [
            "(4, 6)\n"
          ]
        }
      ]
    },
    {
      "cell_type": "markdown",
      "source": [
        "Q11- Create a class Person with attributes name and age. Add a method greet() that prints \"Hello, my name is\n",
        "{name} and I am {age} years old.\""
      ],
      "metadata": {
        "id": "4g8_AuLwOC77"
      }
    },
    {
      "cell_type": "code",
      "source": [
        "class Person:\n",
        "    def __init__(self, name, age):\n",
        "        self.name = name\n",
        "        self.age = age\n",
        "\n",
        "    def greet(self):\n",
        "        print(f\"Hello, my name is {self.name} and I am {self.age} years old.\")\n",
        "\n",
        "person = Person(\"AVINESH\", 21)\n",
        "person.greet()\n"
      ],
      "metadata": {
        "colab": {
          "base_uri": "https://localhost:8080/"
        },
        "id": "jrGndVlvOuxY",
        "outputId": "56f0da25-419a-4603-e3b4-ca7e110468f2"
      },
      "execution_count": 9,
      "outputs": [
        {
          "output_type": "stream",
          "name": "stdout",
          "text": [
            "Hello, my name is AVINESH and I am 21 years old.\n"
          ]
        }
      ]
    },
    {
      "cell_type": "markdown",
      "source": [
        "Q12- Implement a class Student with attributes name and grades. Create a method average_grade() to compute\n",
        "the average of the grades."
      ],
      "metadata": {
        "id": "TOU3ydHJOula"
      }
    },
    {
      "cell_type": "code",
      "source": [
        "class Student:\n",
        "    def __init__(self, name, grades):\n",
        "        self.name = name\n",
        "        self.grades = grades\n",
        "\n",
        "    def average_grade(self):\n",
        "        if not self.grades:\n",
        "            return 0\n",
        "        return sum(self.grades) / len(self.grades)\n",
        "\n",
        "student = Student(\"AVINESH\", [85, 90, 78, 92, 88])\n",
        "print(\"The average grade of\",student.name, \"is:\", student.average_grade())"
      ],
      "metadata": {
        "colab": {
          "base_uri": "https://localhost:8080/"
        },
        "id": "_u5f1NK5OuXV",
        "outputId": "86b04b4e-1680-4afc-9359-6e881285d1d4"
      },
      "execution_count": 8,
      "outputs": [
        {
          "output_type": "stream",
          "name": "stdout",
          "text": [
            "The average grade of AVINESH is: 86.6\n"
          ]
        }
      ]
    },
    {
      "cell_type": "markdown",
      "source": [
        "Q13- Create a class Rectangle with methods set_dimensions() to set the dimensions and area() to calculate the\n",
        "area."
      ],
      "metadata": {
        "id": "QcJ_6uBrOuLY"
      }
    },
    {
      "cell_type": "code",
      "source": [
        "class Rectangle:\n",
        "    def __init__(self):\n",
        "        self.width = 0\n",
        "        self.height = 0\n",
        "\n",
        "    def set_dimensions(self, width, height):\n",
        "        self.width = width\n",
        "        self.height = height\n",
        "\n",
        "    def area(self):\n",
        "        return self.width * self.height\n",
        "\n",
        "# Example usage\n",
        "rectangle = Rectangle()\n",
        "rectangle.set_dimensions(4, 5)\n",
        "print(f\"Area of the rectangle: {rectangle.area()}\")  # Output: Area of the rectangle: 20"
      ],
      "metadata": {
        "colab": {
          "base_uri": "https://localhost:8080/"
        },
        "id": "HFhg5_8ZOt_2",
        "outputId": "dc1dd0f1-5364-4af4-9374-48e79f10501e"
      },
      "execution_count": 7,
      "outputs": [
        {
          "output_type": "stream",
          "name": "stdout",
          "text": [
            "Area of the rectangle: 20\n"
          ]
        }
      ]
    },
    {
      "cell_type": "markdown",
      "source": [
        "Q14- Create a class Employee with a method calculate_salary() that computes the salary based on hours worked\n",
        "and hourly rate. Create a derived class Manager that adds a bonus to the salary."
      ],
      "metadata": {
        "id": "3wz6VtZ0Ot0L"
      }
    },
    {
      "cell_type": "code",
      "source": [
        "class Employee:\n",
        "    def __init__(self, name, hours_worked, hourly_rate):\n",
        "        self.name = name\n",
        "        self.hours_worked = hours_worked\n",
        "        self.hourly_rate = hourly_rate\n",
        "\n",
        "    def calculate_salary(self):\n",
        "        return self.hours_worked * self.hourly_rate\n",
        "\n",
        "class Manager(Employee):\n",
        "    def __init__(self, name, hours_worked, hourly_rate, bonus):\n",
        "        super().__init__(name, hours_worked, hourly_rate)\n",
        "        self.bonus = bonus\n",
        "\n",
        "    def calculate_salary(self):\n",
        "        return super().calculate_salary() + self.bonus\n",
        "\n",
        "employee = Employee(\"AJAY\", 40, 20)\n",
        "print(\"Employee Salary:\", employee.calculate_salary())\n",
        "print()\n",
        "manager = Manager(\"AVINESH\", 40, 30, 500)\n",
        "print(\"Manager Salary:\", manager.calculate_salary())"
      ],
      "metadata": {
        "colab": {
          "base_uri": "https://localhost:8080/"
        },
        "id": "5Cm8J3JhOtl4",
        "outputId": "771ef97a-8a74-4df0-8d9e-0593bed05b8a"
      },
      "execution_count": 6,
      "outputs": [
        {
          "output_type": "stream",
          "name": "stdout",
          "text": [
            "Employee Salary: 800\n",
            "\n",
            "Manager Salary: 1700\n"
          ]
        }
      ]
    },
    {
      "cell_type": "markdown",
      "source": [
        "Q15- Create a class Product with attributes name, price, and quantity. Implement a method total_price() that\n",
        "calculates the total price of the product."
      ],
      "metadata": {
        "id": "HAWmtNFxPRfj"
      }
    },
    {
      "cell_type": "code",
      "source": [
        "class Product:\n",
        "    def __init__(self, name, price, quantity):\n",
        "        self.name = name\n",
        "        self.price = price\n",
        "        self.quantity = quantity\n",
        "\n",
        "    def total_price(self):\n",
        "        return self.price * self.quantity\n",
        "\n",
        "product = Product(\"Laptop\", 50000, 2)\n",
        "\n",
        "print(product.total_price())"
      ],
      "metadata": {
        "colab": {
          "base_uri": "https://localhost:8080/"
        },
        "id": "5i68B-3bPR2q",
        "outputId": "82d14139-2d0b-4870-f25e-6347b1caccac"
      },
      "execution_count": 5,
      "outputs": [
        {
          "output_type": "stream",
          "name": "stdout",
          "text": [
            "100000\n"
          ]
        }
      ]
    },
    {
      "cell_type": "markdown",
      "source": [
        "Q16- Create a class Animal with an abstract method sound(). Create two derived classes Cow and Sheep that\n",
        "implement the sound() method."
      ],
      "metadata": {
        "id": "-hxQJOf2OtW_"
      }
    },
    {
      "cell_type": "code",
      "source": [
        "from abc import ABC, abstractmethod\n",
        "\n",
        "class Animal(ABC):\n",
        "    @abstractmethod\n",
        "    def sound(self):\n",
        "        pass\n",
        "\n",
        "class Cow(Animal):\n",
        "    def sound(self):\n",
        "        return \"Mauhh\"\n",
        "\n",
        "class Sheep(Animal):\n",
        "    def sound(self):\n",
        "        return \"Beahhhh\"\n",
        "\n",
        "# Example usage\n",
        "cow = Cow()\n",
        "sheep = Sheep()\n",
        "\n",
        "print(f\"Cow sound: {cow.sound()}\")\n",
        "print(f\"Sheep sound: {sheep.sound()}\")"
      ],
      "metadata": {
        "colab": {
          "base_uri": "https://localhost:8080/"
        },
        "id": "e3Z0wUOOPSd2",
        "outputId": "8eb38f46-31ba-4dd0-8325-9b2e340d946d"
      },
      "execution_count": 4,
      "outputs": [
        {
          "output_type": "stream",
          "name": "stdout",
          "text": [
            "Cow sound: Mauhh\n",
            "Sheep sound: Beahhhh\n"
          ]
        }
      ]
    },
    {
      "cell_type": "markdown",
      "source": [
        "Q17- Create a class Book with attributes title, author, and year_published. Add a method get_book_info() that\n",
        "returns a formatted string with the book's details.\n"
      ],
      "metadata": {
        "id": "5XhjgGIqPlvC"
      }
    },
    {
      "cell_type": "code",
      "source": [
        "class Book:\n",
        "    def __init__(self, title: str, author: str, year_published: int):\n",
        "        self.title = title\n",
        "        self.author = author\n",
        "        self.year_published = year_published\n",
        "\n",
        "    def get_book_info(self) -> str:\n",
        "        return f\"Title: {self.title}, Author: {self.author}, Year Published: {self.year_published}\"\n",
        "\n",
        "book = Book(\"Don Quixote\", \"Miguel de Cervantes\", 1605)\n",
        "\n",
        "print(book.get_book_info())"
      ],
      "metadata": {
        "colab": {
          "base_uri": "https://localhost:8080/"
        },
        "id": "oGa4cA0MPleb",
        "outputId": "ec3d9eaf-587c-40ec-be61-63172631b80a"
      },
      "execution_count": 3,
      "outputs": [
        {
          "output_type": "stream",
          "name": "stdout",
          "text": [
            "Title: Don Quixote, Author: Miguel de Cervantes, Year Published: 1605\n"
          ]
        }
      ]
    },
    {
      "cell_type": "markdown",
      "source": [
        "Q18- Create a class House with attributes address and price. Create a derived class Mansion that adds an\n",
        "attribute number_of_rooms."
      ],
      "metadata": {
        "id": "9P4McU-TPlPV"
      }
    },
    {
      "cell_type": "code",
      "source": [
        "class House:\n",
        "    def __init__(self, address, price):\n",
        "        self.address = address\n",
        "        self.price = price\n",
        "\n",
        "class Mansion(House):\n",
        "    def __init__(self, address, price, number_of_rooms):\n",
        "        super().__init__(address, price)\n",
        "        self.number_of_rooms = number_of_rooms\n",
        "\n",
        "# Example usage\n",
        "house = House(\"Gomti Nagar\", 10000)\n",
        "mansion = Mansion(\"Hazratganj\", 50000, 10)\n",
        "\n",
        "print(f\"House address: {house.address}, price: ₹{house.price}\")\n",
        "print(f\"Mansion address: {mansion.address}, price: ₹{mansion.price}, number of rooms: {mansion.number_of_rooms}\")"
      ],
      "metadata": {
        "colab": {
          "base_uri": "https://localhost:8080/"
        },
        "id": "NosJg9zUPyIE",
        "outputId": "06aeba3c-c986-465e-e880-f4b15330ccda"
      },
      "execution_count": 2,
      "outputs": [
        {
          "output_type": "stream",
          "name": "stdout",
          "text": [
            "House address: Gomti Nagar, price: ₹10000\n",
            "Mansion address: Hazratganj, price: ₹50000, number of rooms: 10\n"
          ]
        }
      ]
    }
  ]
}